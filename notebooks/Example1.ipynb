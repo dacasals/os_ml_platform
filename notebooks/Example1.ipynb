{
 "cells": [
  {
   "cell_type": "code",
   "execution_count": 23,
   "id": "55552ac4-001a-44de-9747-5c8bb5037290",
   "metadata": {},
   "outputs": [
    {
     "name": "stdout",
     "output_type": "stream",
     "text": [
      "env: MLFLOW_TRACKING_URI=http://127.0.0.1:5000\n",
      "env: MLFLOW_S3_ENDPOINT_URL=http://localhost:9000\n",
      "env: AWS_ACCESS_KEY_ID=minio_user\n",
      "env: AWS_SECRET_ACCESS_KEY=minio_password\n"
     ]
    }
   ],
   "source": [
    "%env MLFLOW_TRACKING_URI=http://127.0.0.1:5000\n",
    "%env MLFLOW_S3_ENDPOINT_URL=http://localhost:9000\n",
    "%env AWS_ACCESS_KEY_ID=minio_user\n",
    "%env AWS_SECRET_ACCESS_KEY=minio_password"
   ]
  },
  {
   "cell_type": "code",
   "execution_count": 2,
   "id": "1a1777f8-91a2-464d-9a6c-a24e112c564e",
   "metadata": {},
   "outputs": [],
   "source": [
    "import mlflow"
   ]
  },
  {
   "cell_type": "code",
   "execution_count": 27,
   "id": "59b740d9-e365-4e10-9eb3-1af78d695e80",
   "metadata": {},
   "outputs": [],
   "source": [
    "xṕ_id = mlflow.create_experiment(\"try_reg_sample5\")"
   ]
  },
  {
   "cell_type": "code",
   "execution_count": 28,
   "id": "a59fd598-05ab-4d5f-a3c3-ebc5defbe2b5",
   "metadata": {},
   "outputs": [
    {
     "data": {
      "text/plain": [
       "<Experiment: artifact_location='s3://bucket/11', creation_time=1711659387272, experiment_id='11', last_update_time=1711659387272, lifecycle_stage='active', name='try_reg_sample5', tags={}>"
      ]
     },
     "execution_count": 28,
     "metadata": {},
     "output_type": "execute_result"
    }
   ],
   "source": [
    "mlflow.set_experiment(experiment_id=xṕ_id)"
   ]
  },
  {
   "cell_type": "code",
   "execution_count": 30,
   "id": "e5f2f545-67e8-40d9-8818-5c7016c00b3b",
   "metadata": {
    "scrolled": true
   },
   "outputs": [
    {
     "name": "stderr",
     "output_type": "stream",
     "text": [
      "2024/03/28 17:56:56 INFO mlflow.tracking.fluent: Autologging successfully enabled for sklearn.\n"
     ]
    },
    {
     "name": "stdout",
     "output_type": "stream",
     "text": [
      "MSE: 3392.3715419050395 MAE: 46.86462813054145\n"
     ]
    }
   ],
   "source": [
    "\n",
    "from sklearn.model_selection import train_test_split\n",
    "from sklearn.datasets import load_diabetes\n",
    "from sklearn.ensemble import RandomForestRegressor\n",
    "from sklearn.metrics import mean_squared_error, mean_absolute_error\n",
    "\n",
    "with mlflow.start_run():\n",
    "\n",
    "    # set the experiment id\n",
    "    \n",
    "    mlflow.autolog()\n",
    "    db = load_diabetes()\n",
    "    \n",
    "    X_train, X_test, y_train, y_test = train_test_split(db.data, db.target)\n",
    "    \n",
    "    # Create and train models.\n",
    "    rf = RandomForestRegressor(n_estimators=100, max_depth=6, max_features=3)\n",
    "    rf.fit(X_train, y_train)\n",
    "    \n",
    "    # Use the model to make predictions on the test dataset.\n",
    "    predictions = rf.predict(X_test)\n",
    "\n",
    "    mse = mean_squared_error(y_test, predictions)\n",
    "    mse\n",
    "\n",
    "    mae = mean_absolute_error(y_test, predictions)\n",
    "    mae\n",
    "    print(f\"MSE: {mse} MAE: {mae}\")\n",
    "mlflow.end_run()"
   ]
  },
  {
   "cell_type": "code",
   "execution_count": 31,
   "id": "2999e166-43dc-403c-90f7-13cf9d96101d",
   "metadata": {},
   "outputs": [],
   "source": [
    "mlflow.end_run()"
   ]
  },
  {
   "cell_type": "code",
   "execution_count": 32,
   "id": "e007887e-1b27-414b-9b07-08fb4f04bd88",
   "metadata": {},
   "outputs": [
    {
     "data": {
      "text/plain": [
       "'s3://bucket/11/ad569971bf734234b37af7c7022c153e/artifacts'"
      ]
     },
     "execution_count": 32,
     "metadata": {},
     "output_type": "execute_result"
    }
   ],
   "source": [
    "mlflow.get_artifact_uri()"
   ]
  },
  {
   "cell_type": "code",
   "execution_count": 34,
   "id": "68dcb7d4-e290-494f-bd9e-2cd38d8158c9",
   "metadata": {},
   "outputs": [
    {
     "name": "stdout",
     "output_type": "stream",
     "text": [
      "s3://bucket/11/5959ccb7b1ba4e48b56894a1870cd4e2/artifacts/model\n"
     ]
    }
   ],
   "source": [
    "artifact_path = \"model\"\n",
    "uri = \"s3://bucket/11/5959ccb7b1ba4e48b56894a1870cd4e2/artifacts\"\n",
    "# Download artifact via the tracking server\n",
    "mlflow_artifact_uri = f'{uri}/{artifact_path}'\n",
    "print(mlflow_artifact_uri)\n",
    "local_path = mlflow.artifacts.download_artifacts(mlflow_artifact_uri)\n",
    "\n",
    "# Load the model\n",
    "model2 = mlflow.sklearn.load_model(local_path)\n"
   ]
  },
  {
   "cell_type": "code",
   "execution_count": 35,
   "id": "837b1efd-80b8-4b8b-a2cf-f491da33ccc2",
   "metadata": {},
   "outputs": [],
   "source": [
    "predictions = model2.predict(X_test)"
   ]
  },
  {
   "cell_type": "code",
   "execution_count": 36,
   "id": "f143768e-52e5-4b72-ba24-0bb7468ed712",
   "metadata": {},
   "outputs": [
    {
     "data": {
      "text/plain": [
       "3392.3715419050395"
      ]
     },
     "execution_count": 36,
     "metadata": {},
     "output_type": "execute_result"
    }
   ],
   "source": [
    "mse = mean_squared_error(y_test, predictions)\n",
    "mse"
   ]
  },
  {
   "cell_type": "code",
   "execution_count": 37,
   "id": "db9be547-4d44-4729-b8bf-3f31de93f9a9",
   "metadata": {},
   "outputs": [
    {
     "data": {
      "text/plain": [
       "46.86462813054145"
      ]
     },
     "execution_count": 37,
     "metadata": {},
     "output_type": "execute_result"
    }
   ],
   "source": [
    "mae = mean_absolute_error(y_test, predictions)\n",
    "mae"
   ]
  }
 ],
 "metadata": {
  "kernelspec": {
   "display_name": "Python 3 (ipykernel)",
   "language": "python",
   "name": "python3"
  },
  "language_info": {
   "codemirror_mode": {
    "name": "ipython",
    "version": 3
   },
   "file_extension": ".py",
   "mimetype": "text/x-python",
   "name": "python",
   "nbconvert_exporter": "python",
   "pygments_lexer": "ipython3",
   "version": "3.10.13"
  }
 },
 "nbformat": 4,
 "nbformat_minor": 5
}
